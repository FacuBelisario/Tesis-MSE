{
  "nbformat": 4,
  "nbformat_minor": 0,
  "metadata": {
    "colab": {
      "provenance": [],
      "authorship_tag": "ABX9TyMuG9OmfjCp6C/Nlybeu2aL",
      "include_colab_link": true
    },
    "kernelspec": {
      "name": "python3",
      "display_name": "Python 3"
    },
    "language_info": {
      "name": "python"
    }
  },
  "cells": [
    {
      "cell_type": "markdown",
      "metadata": {
        "id": "view-in-github",
        "colab_type": "text"
      },
      "source": [
        "<a href=\"https://colab.research.google.com/github/FacuBelisario/Tesis-MSE/blob/master/SistemasDeControl/SistemaDeControlPID.ipynb\" target=\"_parent\"><img src=\"https://colab.research.google.com/assets/colab-badge.svg\" alt=\"Open In Colab\"/></a>"
      ]
    },
    {
      "cell_type": "code",
      "execution_count": 3,
      "metadata": {
        "id": "vlFYtR4jCZfr",
        "colab": {
          "base_uri": "https://localhost:8080/"
        },
        "outputId": "758d634e-290a-4729-8aaa-cadbf97d3886"
      },
      "outputs": [
        {
          "output_type": "stream",
          "name": "stdout",
          "text": [
            "Probando el código\n"
          ]
        }
      ],
      "source": [
        "print(\"Probando el código\")"
      ]
    },
    {
      "cell_type": "code",
      "source": [
        "print(\"Segunda prueba\")"
      ],
      "metadata": {
        "id": "xs4s7-LT3Oqs",
        "outputId": "e312d540-6122-4d1f-dae7-a0d0ee9b8899",
        "colab": {
          "base_uri": "https://localhost:8080/"
        }
      },
      "execution_count": 4,
      "outputs": [
        {
          "output_type": "stream",
          "name": "stdout",
          "text": [
            "Segunda prueba\n"
          ]
        }
      ]
    }
  ]
}